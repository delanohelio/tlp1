{
  "cells": [
    {
      "cell_type": "markdown",
      "metadata": {},
      "source": [
        "# Semana 7: APIs, REST e JSON - A Linguagem das Aplicações Modernas\n",
        "\n",
        "Na aula passada, aprendemos sobre o protocolo HTTP, que é o \"idioma\" da web. Entendemos como Clientes e Servidores conversam através de Requisições e Respostas.\n",
        "\n",
        "Nesta semana, vamos focar no **conteúdo** dessa conversa. Como as aplicações modernas estruturam essa comunicação de forma organizada e padronizada? A resposta está em três letras: A-P-I."
      ]
    },
    {
      "cell_type": "markdown",
      "metadata": {},
      "source": [
        "### 1. O que é uma API?\n",
        "\n",
        "**API** significa **Application Programming Interface** (Interface de Programação de Aplicações).\n",
        "\n",
        "É um nome complexo para uma ideia simples: uma API é um conjunto de regras e ferramentas que permite que diferentes sistemas de software se comuniquem uns com os outros, sem precisar conhecer os detalhes internos de implementação.\n",
        "\n",
        "#### A Analogia do Restaurante (e o Garçom)\n",
        "\n",
        "A melhor forma de entender uma API é pensar em um garçom em um restaurante:\n",
        "- **Você (o Cliente):** Você quer comer, mas não sabe (e não precisa saber) como a cozinha funciona, qual a receita do chef, ou como os ingredientes são armazenados.\n",
        "- **A Cozinha (o Servidor):** É onde toda a lógica complexa acontece. Ela sabe como preparar os pratos.\n",
        "- **O Garçom (a API):** Ele é a **interface** entre você e a cozinha. \n",
        "  - Você faz um pedido usando um formato padronizado (o cardápio).\n",
        "  - O garçom leva seu pedido à cozinha.\n",
        "  - A cozinha prepara o prato.\n",
        "  - O garçom traz o prato pronto para você.\n",
        "\n",
        "A API é como o garçom: ela expõe um \"cardápio\" de operações disponíveis, recebe os pedidos do cliente, interage com o sistema principal (servidor/banco de dados) e retorna uma resposta de forma padronizada. Ela esconde toda a complexidade do sistema."
      ]
    },
    {
      "cell_type": "markdown",
      "metadata": {},
      "source": [
        "### 2. REST: Organizando a Conversa\n",
        "\n",
        "Existem vários tipos de APIs. O estilo arquitetural mais popular hoje em dia é o **REST** (REpresentational State Transfer).\n",
        "\n",
        "REST não é uma tecnologia, mas sim um **conjunto de princípios e boas práticas** para projetar APIs de forma que sejam simples, escaláveis e fáceis de usar.\n",
        "\n",
        "A ideia central do REST é que tudo é um **Recurso**. Um recurso é qualquer \"coisa\" que queremos expor pela API: um produto, um aluno, um vídeo, uma tarefa, etc.\n",
        "\n",
        "Para interagir com esses recursos, usamos os **métodos HTTP** que já aprendemos, aplicados a **Endpoints** (URLs) específicos.\n",
        "\n",
        "| Método HTTP | Endpoint (Exemplo) | Ação | Descrição |\n",
        "| :--- | :--- | :--- | :--- |\n",
        "| `GET`    | `/produtos/`         | **Ler** | Me dê a lista de todos os produtos. |\n",
        "| `GET`    | `/produtos/42/`      | **Ler** | Me dê os detalhes do produto com ID 42. |\n",
        "| `POST`   | `/produtos/`         | **Criar** | Crie um novo produto com os dados que estou enviando. |\n",
        "| `PUT`    | `/produtos/42/`      | **Atualizar** | Atualize os dados do produto com ID 42. |\n",
        "| `DELETE` | `/produtos/42/`      | **Deletar** | Apague o produto com ID 42. |"
      ]
    },
    {
      "cell_type": "markdown",
      "metadata": {},
      "source": [
        "### 3. JSON: O Formato dos Dados\n",
        "\n",
        "Ok, o cliente e o servidor já sabem como conversar (HTTP) e qual o assunto (REST). Mas em qual formato os dados são trocados? O formato mais comum é o **JSON**.\n",
        "\n",
        "**JSON** significa **JavaScript Object Notation**. É um formato de texto leve, simples e fácil de ser lido tanto por humanos quanto por máquinas.\n",
        "\n",
        "A melhor parte? A sintaxe do JSON é praticamente idêntica às estruturas de dados que já conhecemos em Python!\n",
        "\n",
        "- Um **Objeto JSON** (`{ ... }`) é exatamente como um **Dicionário Python** (`dict`).\n",
        "- Um **Array JSON** (`[ ... ]`) é exatamente como uma **Lista Python** (`list`).\n",
        "- Strings, números e booleanos também são representados de forma muito similar."
      ]
    },
    {
      "cell_type": "markdown",
      "metadata": {},
      "source": [
        "**Exemplo de um objeto JSON representando um Produto:**"
      ]
    },
    {
      "cell_type": "markdown",
      "metadata": {
        "collapsed": true
      },
      "source": [
        "```json\n",
        "{\n",
        "  \"id\": 101,\n",
        "  \"nome\": \"Monitor Gamer Curvo\",\n",
        "  \"preco\": 1850.75,\n",
        "  \"em_estoque\": true,\n",
        "  \"tags\": [\"monitor\", \"gamer\", \"27-polegadas\"]\n",
        "}\n",
        "```"
      ]
    },
    {
      "cell_type": "markdown",
      "metadata": {},
      "source": [
        "No exemplo acima:\n",
        "- O conjunto todo (`{...}`) é um objeto JSON (um dicionário em Python).\n",
        "- `\"id\"`, `\"nome\"`, etc., são as chaves.\n",
        "- Os valores têm tipos diferentes: número (`101`), texto (`\"Monitor...\"`), booleano (`true`).\n",
        "- O valor de `\"tags\"` é um array JSON (uma lista em Python)."
      ]
    },
    {
      "cell_type": "markdown",
      "metadata": {},
      "source": [
        "### Conclusão Final\n",
        "\n",
        "Agora podemos juntar tudo! O fluxo completo que vamos construir é:\n",
        "\n",
        "> Um **Cliente** usa o protocolo **HTTP** para enviar uma requisição a um **Endpoint** de uma **API** que segue os princípios **REST** para pedir/manipular um **Recurso**. O servidor processa a requisição e devolve uma resposta cujo corpo está no formato **JSON**.\n",
        "\n",
        "Agora que entendemos TODA a teoria por trás de uma API REST, na próxima semana vamos finalmente começar a construir a nossa! Vamos instalar e conhecer o Django, o framework que nos dará a base para nosso servidor."
      ]
    }
  ],
  "metadata": {
    "kernelspec": {
      "display_name": "Python 3",
      "language": "python",
      "name": "python3"
    },
    "language_info": {
      "codemirror_mode": {
        "name": "ipython",
        "version": 3
      },
      "file_extension": ".py",
      "mimetype": "text/x-python",
      "name": "python",
      "nbconvert_exporter": "python",
      "pygments_lexer": "ipython3",
      "version": "3.10.12"
    }
  },
  "nbformat": 4,
  "nbformat_minor": 5
}