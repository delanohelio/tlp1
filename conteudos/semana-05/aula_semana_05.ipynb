{
  "cells": [
    {
      "cell_type": "markdown",
      "metadata": {},
      "source": [
        "# Semana 5: POO - Herança e a Magia da Reutilização\n",
        "\n",
        "Na aula anterior, aprendemos a criar nossas próprias classes, definindo seus atributos e métodos. Agora, vamos dar um passo além e explorar um dos conceitos mais poderosos da POO: a **Herança**."
      ]
    },
    {
      "cell_type": "markdown",
      "metadata": {},
      "source": [
        "### 1. O Problema: Código Repetido\n",
        "\n",
        "Imagine que estamos construindo um sistema para uma empresa e precisamos representar diferentes tipos de funcionários. Poderíamos ter uma classe `Gerente` e uma classe `Vendedor`.\n",
        "\n",
        "```python\n",
        "# Exemplo de como NÃO fazer\n",
        "class Gerente:\n",
        "    def __init__(self, nome, salario):\n",
        "        self.nome = nome\n",
        "        self.salario = salario\n",
        "\n",
        "    def exibir_dados(self):\n",
        "        print(f\"Nome: {self.nome}, Salário: R$ {self.salario}\")\n",
        "\n",
        "class Vendedor:\n",
        "    def __init__(self, nome, salario):\n",
        "        self.nome = nome\n",
        "        self.salario = salario\n",
        "\n",
        "    def exibir_dados(self):\n",
        "        print(f\"Nome: {self.nome}, Salário: R$ {self.salario}\")\n",
        "```\n",
        "Percebeu o problema? As duas classes são quase idênticas! Estamos repetindo código, o que é uma má prática em programação. A Herança resolve isso."
      ]
    },
    {
      "cell_type": "markdown",
      "metadata": {},
      "source": [
        "### 2. O Conceito de Herança\n",
        "\n",
        "Herança é um mecanismo que permite que uma classe (a **classe-filha** ou subclasse) herde todos os atributos e métodos de outra classe (a **classe-pai** ou superclasse).\n",
        "\n",
        "A principal ideia é a relação **\"é um(a)\"**:\n",
        "- Um `Gerente` **é um** `Funcionario`.\n",
        "- Um `Vendedor` **é um** `Funcionario`.\n",
        "- Um `Carro` **é um** `Veiculo`.\n",
        "\n",
        "Isso nos permite criar uma classe-pai genérica (ex: `Funcionario`) com tudo o que for comum, e classes-filhas específicas que herdam tudo da classe-pai e adicionam suas próprias particularidades."
      ]
    },
    {
      "cell_type": "markdown",
      "metadata": {},
      "source": [
        "### 3. Herança na Prática\n",
        "\n",
        "Vamos criar nossa classe-pai `Funcionario`. Ela terá tudo o que é comum a todos os funcionários."
      ]
    },
    {
      "cell_type": "code",
      "execution_count": null,
      "metadata": {},
      "outputs": [],
      "source": [
        "# CLASSE-PAI (Superclasse)\n",
        "class Funcionario:\n",
        "    def __init__(self, nome, salario):\n",
        "        self.nome = nome\n",
        "        self.salario = salario\n",
        "\n",
        "    def exibir_dados(self):\n",
        "        print(f\"Nome: {self.nome}\")\n",
        "        print(f\"Salário: R$ {self.salario:.2f}\")"
      ]
    },
    {
      "cell_type": "markdown",
      "metadata": {},
      "source": [
        "Agora, vamos criar a classe-filha `Gerente`. A sintaxe é `class NomeFilha(NomePai):`."
      ]
    },
    {
      "cell_type": "code",
      "execution_count": null,
      "metadata": {},
      "outputs": [],
      "source": [
        "# CLASSE-FILHA (Subclasse)\n",
        "# Gerente herda de Funcionario\n",
        "class Gerente(Funcionario):\n",
        "    # A palavra 'pass' significa que, por enquanto, a classe não tem nada de novo.\n",
        "    pass\n",
        "\n",
        "# Vamos testar!\n",
        "gerente1 = Gerente(\"Ana Silva\", 8000.00)\n",
        "\n",
        "# Mesmo a classe Gerente estando vazia, ela herdou o método da classe Funcionario!\n",
        "gerente1.exibir_dados()"
      ]
    },
    {
      "cell_type": "markdown",
      "metadata": {},
      "source": [
        "### 4. Especializando a Classe-Filha\n",
        "\n",
        "O poder da herança está em adicionar comportamentos e atributos específicos à classe-filha.\n",
        "\n",
        "#### Adicionando Novos Métodos\n",
        "Podemos simplesmente definir um novo método na classe-filha. Ele só existirá para objetos daquele tipo."
      ]
    },
    {
      "cell_type": "code",
      "execution_count": null,
      "metadata": {},
      "outputs": [],
      "source": [
        "class Gerente(Funcionario):\n",
        "    # Novo método que só o Gerente tem\n",
        "    def aprovar_orcamento(self):\n",
        "        print(f\"O gerente {self.nome} está aprovando o orçamento.\")\n",
        "\n",
        "gerente2 = Gerente(\"Carlos Andrade\", 9500.00)\n",
        "gerente2.exibir_dados()         # Método herdado\n",
        "gerente2.aprovar_orcamento()   # Método específico"
      ]
    },
    {
      "cell_type": "markdown",
      "metadata": {},
      "source": [
        "#### Estendendo o Construtor com `super()`\n",
        "E se um gerente precisar de um atributo a mais, como `setor`? Precisamos criar um `__init__` na classe `Gerente`, mas sem reescrever a lógica que já existe no `__init__` de `Funcionario`. Para isso, usamos `super()`.\n",
        "\n",
        "A função `super()` nos dá acesso à classe-pai, permitindo que chamemos seus métodos."
      ]
    },
    {
      "cell_type": "code",
      "execution_count": null,
      "metadata": {},
      "outputs": [],
      "source": [
        "class Gerente(Funcionario):\n",
        "    # O novo __init__ recebe todos os parâmetros, inclusive os da classe-pai\n",
        "    def __init__(self, nome, salario, setor):\n",
        "        # 1. Chama o __init__ da classe-pai (Funcionario) para que ele cuide do nome e do salário.\n",
        "        super().__init__(nome, salario)\n",
        "        \n",
        "        # 2. Agora, inicializa o atributo que só o Gerente tem.\n",
        "        self.setor = setor\n",
        "\n",
        "    def aprovar_orcamento(self):\n",
        "        print(f\"O gerente {self.nome} do setor '{self.setor}' está aprovando o orçamento.\")\n",
        "\n",
        "gerente_ti = Gerente(\"Mariana Costa\", 12000.00, \"Tecnologia da Informação\")\n",
        "\n",
        "gerente_ti.exibir_dados()\n",
        "gerente_ti.aprovar_orcamento()"
      ]
    },
    {
      "cell_type": "markdown",
      "metadata": {},
      "source": [
        "### 5. A Conexão com Django e DRF (O Mais Importante!)\n",
        "\n",
        "Você pode estar se perguntando: \"Por que isso é tão importante para nossa API?\"\n",
        "\n",
        "**A Herança é a base de funcionamento de frameworks como o Django!**\n",
        "\n",
        "Quando criamos um **Model** para representar uma tabela no banco de dados, fazemos assim:\n",
        "\n",
        "```python\n",
        "from django.db import models\n",
        "\n",
        "class Produto(models.Model): # <-- NOSSA CLASSE HERDA DE models.Model\n",
        "    nome = models.CharField(max_length=100)\n",
        "    preco = models.DecimalField(max_digits=10, decimal_places=2)\n",
        "```\n",
        "Ao herdar de `models.Model`, nossa classe `Produto` **ganha de presente** todos os \"superpoderes\" para interagir com o banco de dados (`.save()`, `.delete()`, `.objects.all()`, etc.). Não precisamos escrever essa lógica, apenas herdamos!\n",
        "\n",
        "O mesmo acontece com as **Views** do Django REST Framework:\n",
        "\n",
        "```python\n",
        "from rest_framework import views\n",
        "\n",
        "class ProdutoAPIView(views.APIView): # <-- NOSSA VIEW HERDA DE APIView\n",
        "    def get(self, request): \n",
        "        # ...\n",
        "        pass\n",
        "```\n",
        "Nossa `ProdutoAPIView` herda toda a capacidade de entender requisições web (GET, POST, etc.) da classe `APIView` do DRF. Nós apenas nos preocupamos com a nossa lógica de negócio.\n",
        "\n",
        "Entender Herança é entender como os frameworks modernos funcionam!"
      ]
    },
    {
      "cell_type": "markdown",
      "metadata": {},
      "source": [
        "### Conclusão\n",
        "\n",
        "Nesta aula, vimos como a Herança nos permite reutilizar código de forma elegante e criar especializações de nossas classes. Aprendemos a usar a sintaxe `class Filha(Pai):` e a função `super()` para estender construtores. \n",
        "\n",
        "Agora que temos uma base sólida de POO, na próxima semana vamos começar a olhar para o ambiente onde nossa API vai viver: os conceitos da web, como Cliente-Servidor e o protocolo HTTP."
      ]
    }
  ],
  "metadata": {
    "kernelspec": {
      "display_name": "Python 3",
      "language": "python",
      "name": "python3"
    },
    "language_info": {
      "codemirror_mode": {
        "name": "ipython",
        "version": 3
      },
      "file_extension": ".py",
      "mimetype": "text/x-python",
      "name": "python",
      "nbconvert_exporter": "python",
      "pygments_lexer": "ipython3",
      "version": "3.10.12"
    }
  },
  "nbformat": 4,
  "nbformat_minor": 5
}