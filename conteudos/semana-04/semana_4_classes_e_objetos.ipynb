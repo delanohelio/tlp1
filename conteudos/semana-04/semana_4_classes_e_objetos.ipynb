{
  "cells": [
    {
      "cell_type": "markdown",
      "metadata": {},
      "source": [
        "# Semana 4: POO na Prática - Classes, Atributos e Métodos\n",
        "\n",
        "Na última aula, entendemos que uma **Classe** é um molde e um **Objeto** é a instância criada a partir desse molde. Hoje, vamos aprender a escrever o código Python para criar esses moldes e seus objetos."
      ]
    },
    {
      "cell_type": "markdown",
      "metadata": {},
      "source": [
        "### 1. A Sintaxe da Classe\n",
        "\n",
        "A sintaxe para criar uma classe em Python é simples: usamos a palavra-chave `class`, seguida pelo nome da classe. Por convenção, nomes de classes começam com letra maiúscula (padrão *PascalCase*).\n",
        "\n",
        "Vamos criar a classe `Produto` que planejamos. Se ainda não quisermos adicionar nada a ela, usamos a palavra-chave `pass`."
      ]
    },
    {
      "cell_type": "code",
      "execution_count": null,
      "metadata": {},
      "outputs": [],
      "source": [
        "class Produto:\n",
        "    pass"
      ]
    },
    {
      "cell_type": "markdown",
      "metadata": {},
      "source": [
        "### 2. O Construtor `__init__`: Dando Vida ao Objeto\n",
        "\n",
        "O método `__init__` é um método especial (*magic method*) que é **executado automaticamente** sempre que um novo objeto é criado a partir da classe.\n",
        "\n",
        "- **`self`**: É o parâmetro mais importante. Ele é uma referência ao **próprio objeto** que está sendo criado. É através do `self` que definimos os atributos daquele objeto específico.\n",
        "- **Outros parâmetros (`nome`, `preco`...)**: São os dados que precisamos fornecer no momento da criação para que o objeto seja inicializado corretamente."
      ]
    },
    {
      "cell_type": "code",
      "execution_count": null,
      "metadata": {},
      "outputs": [],
      "source": [
        "class Produto:\n",
        "    def __init__(self, nome, preco, estoque=0):\n",
        "        # Estes são os ATRIBUTOS do objeto\n",
        "        # Cada objeto Produto terá seu próprio nome, preço e estoque.\n",
        "        self.nome = nome\n",
        "        self.preco = preco\n",
        "        self.estoque = estoque\n",
        "        print(f\"Produto '{self.nome}' criado com sucesso!\")"
      ]
    },
    {
      "cell_type": "markdown",
      "metadata": {},
      "source": [
        "### 3. Instanciando um Objeto\n",
        "\n",
        "\"Instanciar\" é o ato de criar um objeto a partir de uma classe. Fazemos isso chamando a classe como se fosse uma função e passando os argumentos que o `__init__` espera (exceto o `self`, que o Python cuida para nós)."
      ]
    },
    {
      "cell_type": "code",
      "execution_count": null,
      "metadata": {},
      "outputs": [],
      "source": [
        "# Criando o objeto p1 da classe Produto\n",
        "p1 = Produto(\"Teclado Mecânico\", 250.00, 10)\n",
        "\n",
        "# Criando o objeto p2 da classe Produto\n",
        "p2 = Produto(\"Mouse Gamer\", 120.50, 25)"
      ]
    },
    {
      "cell_type": "markdown",
      "metadata": {},
      "source": [
        "### 4. Acessando Atributos\n",
        "\n",
        "Uma vez que o objeto está criado, podemos acessar seus atributos (suas características) usando a **notação de ponto** (`.`): `nome_do_objeto.nome_do_atributo`"
      ]
    },
    {
      "cell_type": "code",
      "execution_count": null,
      "metadata": {},
      "outputs": [],
      "source": [
        "print(f\"Nome do produto 1: {p1.nome}\")\n",
        "print(f\"Preço do produto 1: R$ {p1.preco}\")\n",
        "\n",
        "print(f\"Nome do produto 2: {p2.nome}\")\n",
        "print(f\"Estoque do produto 2: {p2.estoque} unidades\")"
      ]
    },
    {
      "cell_type": "markdown",
      "metadata": {},
      "source": [
        "### 5. Adicionando Comportamentos: Métodos\n",
        "\n",
        "Métodos são funções definidas dentro de uma classe. Eles representam as ações que um objeto pode realizar. Assim como o `__init__`, eles sempre recebem `self` como primeiro parâmetro para poderem acessar e modificar os atributos do próprio objeto."
      ]
    },
    {
      "cell_type": "code",
      "execution_count": null,
      "metadata": {},
      "outputs": [],
      "source": [
        "class Produto:\n",
        "    def __init__(self, nome, preco, estoque=0):\n",
        "        self.nome = nome\n",
        "        self.preco = preco\n",
        "        self.estoque = estoque\n",
        "\n",
        "    # --- MÉTODOS --- \n",
        "    def aplicar_desconto(self, percentual):\n",
        "        \"\"\"Aplica um desconto percentual ao preço do produto.\"\"\"\n",
        "        desconto = self.preco * (percentual / 100)\n",
        "        self.preco = self.preco - desconto\n",
        "        print(f\"Desconto de {percentual}% aplicado. Novo preço: R$ {self.preco:.2f}\")\n",
        "\n",
        "    def adicionar_estoque(self, quantidade):\n",
        "        \"\"\"Adiciona uma quantidade ao estoque do produto.\"\"\"\n",
        "        self.estoque = self.estoque + quantidade\n",
        "        print(f\"{quantidade} unidades adicionadas. Estoque atual: {self.estoque}\")"
      ]
    },
    {
      "cell_type": "markdown",
      "metadata": {},
      "source": [
        "### 6. Utilizando os Métodos\n",
        "\n",
        "Chamamos os métodos da mesma forma que acessamos os atributos, com a notação de ponto, mas adicionando parênteses `()` no final (e passando argumentos, se o método exigir)."
      ]
    },
    {
      "cell_type": "code",
      "execution_count": null,
      "metadata": {},
      "outputs": [],
      "source": [
        "# Criando um novo produto\n",
        "p3 = Produto(\"Monitor 24 polegadas\", 950.00, 5)\n",
        "\n",
        "print(f\"Preço inicial do {p3.nome}: R$ {p3.preco}\")\n",
        "\n",
        "# Chamando o método para aplicar um desconto de 10%\n",
        "p3.aplicar_desconto(10)\n",
        "\n",
        "print(f\"Estoque inicial: {p3.estoque}\")\n",
        "# Chamando o método para adicionar 3 itens ao estoque\n",
        "p3.adicionar_estoque(3)"
      ]
    },
    {
      "cell_type": "markdown",
      "metadata": {},
      "source": [
        "### Resumo da Semana\n",
        "\n",
        "Parabéns! Você escreveu sua primeira classe completa em Python. Agora você sabe como:\n",
        "- Definir um \"molde\" com `class`.\n",
        "- Inicializar objetos com `__init__`.\n",
        "- Armazenar dados em atributos (`self.x`).\n",
        "- Criar ações com métodos (`def metodo(self)`).\n",
        "- Instanciar e usar seus objetos.\n",
        "\n",
        "Na próxima semana, veremos como uma classe pode herdar características de outra, um conceito poderoso chamado Herança."
      ]
    }
  ],
  "metadata": {
    "kernelspec": {
      "display_name": "Python 3",
      "language": "python",
      "name": "python3"
    },
    "language_info": {
      "codemirror_mode": {
        "name": "ipython",
        "version": 3
      },
      "file_extension": ".py",
      "mimetype": "text/x-python",
      "name": "python",
      "nbconvert_exporter": "python",
      "pygments_lexer": "ipython3",
      "version": "3.10.12"
    }
  },
  "nbformat": 4,
  "nbformat_minor": 5
}