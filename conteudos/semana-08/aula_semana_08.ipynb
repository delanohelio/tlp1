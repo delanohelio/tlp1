{
  "cells": [
    {
      "cell_type": "markdown",
      "metadata": {},
      "source": [
        "# Semana 8: Mão na Massa! Introdução ao Django\n",
        "\n",
        "Chegou o grande momento! Nas últimas semanas, construímos toda a base teórica necessária: POO, HTTP, APIs, REST e JSON. Agora, vamos unir tudo isso e começar a construir nosso servidor com um dos frameworks web mais populares e poderosos do mundo: o **Django**.\n",
        "\n",
        "--- \n",
        "**⚠️ ATENÇÃO: AULA PRÁTICA NO SEU COMPUTADOR!**\n",
        "\n",
        "Este notebook é um **guia passo a passo**. Diferente das aulas anteriores, os comandos mostrados aqui **NÃO devem ser executados neste notebook do Colab**. Eles devem ser digitados no **terminal (prompt de comando)** do seu próprio computador.\n",
        "\n",
        "--- "
      ]
    },
    {
      "cell_type": "markdown",
      "metadata": {},
      "source": [
        "### Passo 0: Preparando o Terreno - Ambientes Virtuais (`venv`)\n",
        "\n",
        "Antes de instalar qualquer coisa, precisamos criar um **ambiente virtual**. \n",
        "\n",
        "**O que é isso?** Pense em um ambiente virtual como uma \"caixa de ferramentas\" isolada para cada projeto. Em vez de instalar todas as ferramentas (pacotes Python) em um único lugar no seu computador, criamos uma caixa separada para nosso projeto de API. \n",
        "\n",
        "**Por que usar?**\n",
        "- **Organização:** Evita conflitos entre versões de pacotes de diferentes projetos.\n",
        "- **Portabilidade:** Facilita para que outra pessoa (ou você mesmo em outro computador) recrie o ambiente exato do projeto.\n",
        "- **Boas Práticas:** É a forma profissional de se trabalhar com projetos Python."
      ]
    },
    {
      "cell_type": "markdown",
      "metadata": {},
      "source": [
        "### Passo 1: Criando e Ativando o Ambiente Virtual\n",
        "\n",
        "Abra o terminal do seu computador (Prompt de Comando ou PowerShell no Windows; Terminal no macOS/Linux) e siga os comandos."
      ]
    },
    {
      "cell_type": "markdown",
      "metadata": {},
      "source": [
        "**1. Crie e acesse uma pasta para seus projetos:**\n",
        "```bash\n",
        "# Cria uma pasta chamada 'meus_projetos_ltp1'\n",
        "mkdir meus_projetos_ltp1\n",
        "\n",
        "# Entra na pasta que acabamos de criar\n",
        "cd meus_projetos_ltp1\n",
        "```\n",
        "\n",
        "**2. Crie o ambiente virtual dentro desta pasta:**\n",
        "*No Windows:*\n",
        "```bash\n",
        "python -m venv venv\n",
        "```\n",
        "*No macOS ou Linux:*\n",
        "```bash\n",
        "python3 -m venv venv\n",
        "```\n",
        "(Isso criará uma pasta chamada `venv` com uma instalação isolada do Python).\n",
        "\n",
        "**3. Ative o ambiente virtual:**\n",
        "*No Windows:*\n",
        "```bash\n",
        "venv\\Scripts\\activate\n",
        "```\n",
        "*No macOS ou Linux:*\n",
        "```bash\n",
        "source venv/bin/activate\n",
        "```\n",
        "> **Dica:** Você saberá que funcionou, pois o nome `(venv)` aparecerá no início da linha do seu terminal!"
      ]
    },
    {
      "cell_type": "markdown",
      "metadata": {},
      "source": [
        "### Passo 2: Instalando o Django e o Django REST Framework\n",
        "\n",
        "Com o ambiente virtual **ativo**, vamos usar o `pip`, o gerenciador de pacotes do Python, para instalar o Django e o Django REST Framework (DRF), que usaremos em breve."
      ]
    },
    {
      "cell_type": "markdown",
      "metadata": {},
      "source": [
        "Execute o seguinte comando no terminal:\n",
        "```bash\n",
        "pip install django djangorestframework\n",
        "```"
      ]
    },
    {
      "cell_type": "markdown",
      "metadata": {},
      "source": [
        "### Passo 3: Criando o Projeto Django\n",
        "\n",
        "Agora que o Django está instalado, podemos usar seu script de linha de comando para criar a estrutura do nosso projeto.\n",
        "\n",
        "Ainda dentro da pasta `meus_projetos_ltp1`, execute:\n",
        "```bash\n",
        "django-admin startproject meuprojeto .\n",
        "```\n",
        "> **Atenção:** Não esqueça do ponto `.` no final! Ele diz ao Django para criar o projeto na pasta atual, mantendo a estrutura mais limpa."
      ]
    },
    {
      "cell_type": "markdown",
      "metadata": {},
      "source": [
        "### Passo 4: Analisando a Estrutura Criada\n",
        "\n",
        "Se você abrir a pasta no seu editor de código (VS Code), verá que o Django criou alguns arquivos para nós:\n",
        "\n",
        "```\n",
        "meus_projetos_ltp1/\n",
        "├── venv/                 <-- Nosso ambiente virtual\n",
        "├── meuprojeto/           <-- Pasta de configuração do projeto\n",
        "│   ├── __init__.py\n",
        "│   ├── asgi.py\n",
        "│   ├── settings.py       <-- O coração do projeto! (configurações)\n",
        "│   ├── urls.py           <-- O mapa de rotas (URLs) do site\n",
        "│   └── wsgi.py\n",
        "└── manage.py             <-- Nosso \"canivete suíço\" para gerenciar o projeto\n",
        "```\n",
        "\n",
        "Não se preocupe em decorar tudo agora. Os arquivos mais importantes com os quais vamos interagir no início são o `manage.py`, `settings.py` e `urls.py`."
      ]
    },
    {
      "cell_type": "markdown",
      "metadata": {},
      "source": [
        "### Passo 5: Ligando o Servidor!\n",
        "\n",
        "Vamos ver nosso projeto em ação. O Django vem com um servidor de desenvolvimento embutido, perfeito para testes.\n",
        "\n",
        "Use o `manage.py` para iniciar o servidor:\n",
        "```bash\n",
        "python manage.py runserver\n",
        "```\n",
        "\n",
        "Você verá uma saída no terminal parecida com esta:\n",
        "\n",
        "`Starting development server at http://127.0.0.1:8000/`\n",
        "`Quit the server with CTRL-BREAK.`\n",
        "\n",
        "Agora, abra seu navegador de internet e acesse a URL: **http://127.0.0.1:8000/**\n",
        "\n",
        "Você deve ver a página de boas-vindas do Django, com um foguete! 🚀"
      ]
    },
    {
      "cell_type": "markdown",
      "metadata": {},
      "source": [
        "### Conclusão\n",
        "\n",
        "**Parabéns!** Você acabou de configurar um ambiente de desenvolvimento Python profissional, instalou o Django e iniciou seu primeiro servidor web. Esta é a base sólida sobre a qual construiremos nossa API.\n",
        "\n",
        "Na próxima semana, vamos começar a dar vida a este projeto, criando nosso primeiro **Model** para definir a estrutura dos dados que nossa API irá gerenciar."
      ]
    }
  ],
  "metadata": {
    "kernelspec": {
      "display_name": "Python 3",
      "language": "python",
      "name": "python3"
    },
    "language_info": {
      "codemirror_mode": {
        "name": "ipython",
        "version": 3
      },
      "file_extension": ".py",
      "mimetype": "text/x-python",
      "name": "python",
      "nbconvert_exporter": "python",
      "pygments_lexer": "ipython3",
      "version": "3.10.12"
    }
  },
  "nbformat": 4,
  "nbformat_minor": 5
}