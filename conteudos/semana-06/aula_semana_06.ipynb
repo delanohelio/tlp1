{
  "cells": [
    {
      "cell_type": "markdown",
      "metadata": {},
      "source": [
        "# Semana 6: Onde Nossas APIs Vão Morar - A Web e o Protocolo HTTP\n",
        "\n",
        "Até agora, nossos objetos e classes viveram isolados dentro de um único programa. Para que eles sejam úteis em uma aplicação real, eles precisam se comunicar pela internet.\n",
        "\n",
        "Nesta aula, vamos construir a ponte entre a Programação Orientada a Objetos e o mundo online, entendendo os fundamentos que permitem a comunicação na web."
      ]
    },
    {
      "cell_type": "markdown",
      "metadata": {},
      "source": [
        "### 1. O Modelo Cliente-Servidor\n",
        "\n",
        "Toda a web funciona com base em um modelo muito simples chamado **Cliente-Servidor**.\n",
        "\n",
        "Pense em um restaurante:\n",
        "- **O Cliente:** É você, o cliente, sentado na mesa. Você quer alguma coisa (comida) e, para isso, faz um **pedido** (uma requisição) ao garçom.\n",
        "- **O Servidor:** É a cozinha do restaurante. Ela recebe seu pedido, processa (prepara o prato) e envia de volta uma **resposta** (o prato pronto).\n",
        "\n",
        "Na web, é a mesma coisa:\n",
        "- **Cliente:** É o seu navegador (Chrome, Firefox), seu celular ou qualquer programa que **inicia uma comunicação** para pedir um recurso (uma página, uma imagem, dados).\n",
        "- **Servidor:** É um computador potente que fica ligado 24/7, esperando por pedidos. Ele **hospeda** os sites e as APIs e é responsável por processar os pedidos e enviar as respostas."
      ]
    },
    {
      "cell_type": "markdown",
      "metadata": {},
      "source": [
        "### 2. HTTP: O Idioma da Web\n",
        "\n",
        "Para que o cliente e o servidor se entendam, eles precisam falar o mesmo idioma. Esse idioma é um **protocolo**, que é um conjunto de regras de comunicação.\n",
        "\n",
        "O idioma da web é o **HTTP (HyperText Transfer Protocol)**. Toda comunicação entre seu navegador e um servidor é, na verdade, uma troca de mensagens de texto formatadas de acordo com as regras do HTTP."
      ]
    },
    {
      "cell_type": "markdown",
      "metadata": {},
      "source": [
        "### 3. Anatomia de uma Requisição (Request) HTTP\n",
        "\n",
        "Quando o cliente faz um pedido, ele envia uma mensagem de **Requisição**. Ela tem 4 partes principais:"
      ]
    },
    {
      "cell_type": "markdown",
      "metadata": {},
      "source": [
        "#### a) Método (ou Verbo)\n",
        "Indica a **intenção** da requisição. Os 4 principais, que usaremos em nossa API, são:\n",
        "- **`GET`**: **Pegar/Ler** dados. Usado para solicitar uma página, ver um produto, etc.\n",
        "- **`POST`**: **Criar** um novo recurso. Usado para enviar um formulário de cadastro, publicar uma foto, etc.\n",
        "- **`PUT`**: **Atualizar/Substituir** um recurso existente. Usado para editar o seu perfil.\n",
        "- **`DELETE`**: **Remover** um recurso. Usado para apagar uma postagem.\n"
      ]
    },
    {
      "cell_type": "markdown",
      "metadata": {},
      "source": [
        "#### b) URL (Endpoint)\n",
        "O \"endereço\" do recurso que você quer acessar. Ex: `/alunos/10/`."
      ]
    },
    {
      "cell_type": "markdown",
      "metadata": {},
      "source": [
        "#### c) Cabeçalhos (Headers)\n",
        "Metadados sobre a requisição, como o tipo de navegador que está fazendo o pedido (`User-Agent`), o formato de resposta esperado (`Accept`), etc."
      ]
    },
    {
      "cell_type": "markdown",
      "metadata": {},
      "source": [
        "#### d) Corpo (Body)\n",
        "Os dados que estão sendo enviados para o servidor. É usado principalmente em requisições `POST` e `PUT`. Por exemplo, ao criar um novo produto, o corpo da requisição conteria um JSON com os dados do produto."
      ]
    },
    {
      "cell_type": "markdown",
      "metadata": {},
      "source": [
        "**Exemplo de uma requisição `GET` simples:**\n",
        "```http\n",
        "GET /palmares/ HTTP/1.1\n",
        "Host: www.ifpe.edu.br\n",
        "User-Agent: Mozilla/5.0 (Windows NT 10.0; Win64; x64)\n",
        "Accept: text/html\n",
        "```"
      ]
    },
    {
      "cell_type": "markdown",
      "metadata": {},
      "source": [
        "### 4. Anatomia de uma Resposta (Response) HTTP\n",
        "\n",
        "Após processar o pedido, o servidor devolve uma mensagem de **Resposta**, com 3 partes:"
      ]
    },
    {
      "cell_type": "markdown",
      "metadata": {},
      "source": [
        "#### a) Código de Status\n",
        "Um número de 3 dígitos que diz se a requisição deu certo ou não. Os mais importantes são:\n",
        "- **`2xx` (Sucesso):**\n",
        "  - `200 OK`: Deu tudo certo. A resposta mais comum.\n",
        "  - `201 Created`: O recurso foi criado com sucesso (resposta a um `POST`).\n",
        "- **`4xx` (Erro do Cliente):** O cliente fez algo errado.\n",
        "  - `400 Bad Request`: O pedido foi malformado.\n",
        "  - `403 Forbidden`: Você não tem permissão para ver isso.\n",
        "  - `404 Not Found`: O recurso não foi encontrado. O erro mais famoso da internet!\n",
        "- **`5xx` (Erro do Servidor):** O cliente fez o pedido certo, mas o servidor quebrou.\n",
        "  - `500 Internal Server Error`: Um erro genérico no servidor."
      ]
    },
    {
      "cell_type": "markdown",
      "metadata": {},
      "source": [
        "#### b) Cabeçalhos (Headers)\n",
        "Metadados sobre a resposta. O mais importante é o `Content-Type`, que diz o que o servidor está enviando de volta (ex: `text/html`, `application/json`, `image/jpeg`)."
      ]
    },
    {
      "cell_type": "markdown",
      "metadata": {},
      "source": [
        "#### c) Corpo (Body)\n",
        "O conteúdo da resposta em si! Pode ser o código HTML de uma página, os dados de um produto em JSON, uma imagem, etc."
      ]
    },
    {
      "cell_type": "markdown",
      "metadata": {},
      "source": [
        "**Exemplo de uma resposta a uma requisição bem-sucedida:**\n",
        "```http\n",
        "HTTP/1.1 200 OK\n",
        "Content-Type: text/html; charset=utf-8\n",
        "Date: Thu, 07 Aug 2025 20:30:00 GMT\n",
        "\n",
        "<!DOCTYPE html>\n",
        "<html>\n",
        "<head>...</head>\n",
        "<body>...\n",
        "</html>\n",
        "```"
      ]
    },
    {
      "cell_type": "markdown",
      "metadata": {},
      "source": [
        "### Conclusão\n",
        "\n",
        "Hoje, desvendamos a conversa que acontece por baixo dos panos na internet. Entendemos que um **Cliente** envia uma **Requisição HTTP** (com um método, URL, etc.) para um **Servidor**, que por sua vez devolve uma **Resposta HTTP** (com um código de status e o conteúdo).\n",
        "\n",
        "Agora que entendemos a *conversa* (HTTP), na próxima aula vamos focar no *assunto* dessa conversa: o que é uma API e como o padrão REST organiza essa comunicação de forma eficiente e padronizada."
      ]
    }
  ],
  "metadata": {
    "kernelspec": {
      "display_name": "Python 3",
      "language": "python",
      "name": "python3"
    },
    "language_info": {
      "codemirror_mode": {
        "name": "ipython",
        "version": 3
      },
      "file_extension": ".py",
      "mimetype": "text/x-python",
      "name": "python",
      "nbconvert_exporter": "python",
      "pygments_lexer": "ipython3",
      "version": "3.10.12"
    }
  },
  "nbformat": 4,
  "nbformat_minor": 5
}