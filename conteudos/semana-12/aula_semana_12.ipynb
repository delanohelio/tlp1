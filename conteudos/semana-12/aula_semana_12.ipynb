{
  "cells": [
    {
      "cell_type": "markdown",
      "metadata": {},
      "source": [
        "# Semana 12: Detalhando a Informação - Endpoint de Detalhe\n",
        "\n",
        "Na aula anterior, alcançamos um marco incrível: criamos um endpoint que lista todos os produtos da nossa base de dados. Agora, vamos dar o próximo passo: como podemos ver os detalhes de **um único** produto?\n",
        "\n",
        "Nesta aula, vamos criar um segundo endpoint, o de **detalhe**. Ele permitirá que um cliente requisite informações de um item específico passando seu ID na URL, como por exemplo: `/api/produtos/1/`.\n",
        "\n",
        "--- \n",
        "**⚠️ ATENÇÃO: AULA PRÁTICA NO SEU COMPUTADOR!**\n",
        "\n",
        "Continue trabalhando no seu projeto Django local, com o ambiente virtual `(venv)` ativado.\n",
        "\n",
        "--- "
      ]
    },
    {
      "cell_type": "markdown",
      "metadata": {},
      "source": [
        "### 1. A View de Detalhe: `RetrieveAPIView`\n",
        "\n",
        "Assim como o DRF nos forneceu a `ListAPIView` para listagens, ele também nos oferece uma view genérica para buscar um único objeto: a **`RetrieveAPIView`**.\n",
        "\n",
        "O trabalho dela é simples:\n",
        "1. Espera receber um identificador (a chave primária, ou `pk`) na URL.\n",
        "2. Usa esse `pk` para buscar um único objeto no banco de dados.\n",
        "3. Serializa esse objeto e o retorna como resposta."
      ]
    },
    {
      "cell_type": "markdown",
      "metadata": {},
      "source": [
        "### Passo 1: Criando a View de Detalhe\n",
        "\n",
        "Vamos adicionar a nova view ao nosso arquivo `api/views.py`. A estrutura é muito parecida com a da `ListAPIView`.\n",
        "\n",
        "Abra o arquivo **`api/views.py`** e adicione a classe `ProdutoDetail`:"
      ]
    },
    {
      "cell_type": "code",
      "execution_count": null,
      "metadata": {},
      "outputs": [],
      "source": [
        "# api/views.py\n",
        "\n",
        "from rest_framework import generics\n",
        "from .models import Produto\n",
        "from .serializers import ProdutoSerializer\n",
        "\n",
        "# View para listar todos os produtos (da aula passada)\n",
        "class ProdutoList(generics.ListAPIView):\n",
        "    queryset = Produto.objects.all()\n",
        "    serializer_class = ProdutoSerializer\n",
        "\n",
        "# NOVA VIEW: View para ver os detalhes de um único produto\n",
        "class ProdutoDetail(generics.RetrieveAPIView):\n",
        "    # Os atributos são os mesmos! O DRF cuida da lógica de filtrar por um objeto.\n",
        "    queryset = Produto.objects.all()\n",
        "    serializer_class = ProdutoSerializer\n"
      ]
    },
    {
      "cell_type": "markdown",
      "metadata": {},
      "source": [
        "Note que os atributos `queryset` e `serializer_class` são exatamente os mesmos. A própria `RetrieveAPIView` já sabe que precisa usar o `pk` da URL para filtrar o `queryset` e retornar apenas um item."
      ]
    },
    {
      "cell_type": "markdown",
      "metadata": {},
      "source": [
        "### Passo 2: URLs Dinâmicas - Capturando a Chave Primária (PK)\n",
        "\n",
        "Agora, o desafio é criar uma URL que seja dinâmica. Não queremos uma URL fixa, mas sim um padrão que funcione para `/produtos/1/`, `/produtos/2/`, `/produtos/42/`, etc.\n",
        "\n",
        "O Django nos permite \"capturar\" partes de uma URL. A sintaxe é a seguinte:\n",
        "\n",
        "**`<tipo:nome>`**\n",
        "\n",
        "- **`tipo`**: O tipo de dado esperado (ex: `int` para inteiro, `str` para string).\n",
        "- **`nome`**: O nome da variável que guardará o valor capturado.\n",
        "\n",
        "Por convenção, o Django REST Framework espera que o identificador do objeto se chame **`pk`** (de Primary Key). Portanto, o padrão que usaremos será **`<int:pk>`**."
      ]
    },
    {
      "cell_type": "markdown",
      "metadata": {},
      "source": [
        "### Passo 3: Configurando a Nova URL\n",
        "\n",
        "Vamos adicionar a nova rota ao nosso arquivo de URLs da app.\n",
        "\n",
        "Abra o arquivo **`api/urls.py`** e adicione o novo `path`:"
      ]
    },
    {
      "cell_type": "code",
      "execution_count": null,
      "metadata": {},
      "outputs": [],
      "source": [
        "# api/urls.py\n",
        "\n",
        "from django.urls import path\n",
        "from . import views\n",
        "\n",
        "urlpatterns = [\n",
        "    # Rota de listagem (da aula passada)\n",
        "    path('produtos/', views.ProdutoList.as_view(), name='produto-list'),\n",
        "    \n",
        "    # NOVA ROTA: Rota de detalhe\n",
        "    # <int:pk> captura um inteiro da URL e o passa para a view como um argumento chamado 'pk'.\n",
        "    path('produtos/<int:pk>/', views.ProdutoDetail.as_view(), name='produto-detail'),\n",
        "]"
      ]
    },
    {
      "cell_type": "markdown",
      "metadata": {},
      "source": [
        "### Passo 4: Testando o Endpoint de Detalhe\n",
        "\n",
        "Com a view e a URL prontas, vamos testar!\n",
        "\n",
        "1.  **Inicie o servidor:**\n",
        "    ```bash\n",
        "    python manage.py runserver\n",
        "    ```\n",
        "\n",
        "2.  **Encontre um ID:**\n",
        "    Primeiro, acesse a lista de produtos para ver o `id` de um produto que já exista (se não tiver nenhum, crie pelo Django Admin): **http://127.0.0.1:8000/api/produtos/**\n",
        "\n",
        "3.  **Acesse a URL de detalhe:**\n",
        "    Agora, pegue um `id` válido (vamos supor que seja `1`) e acesse a URL de detalhe: **http://127.0.0.1:8000/api/produtos/1/**\n",
        "\n",
        "**Resultado esperado:**\n",
        "Você verá a `Browsable API` do DRF, mas desta vez exibindo o JSON de **um único objeto Produto**, em vez de uma lista."
      ]
    },
    {
      "cell_type": "markdown",
      "metadata": {},
      "source": [
        "### Conclusão\n",
        "\n",
        "Excelente trabalho! Agora nossa API possui os dois endpoints de leitura mais importantes, completando a letra **'R' (Read)** do acrônimo **CRUD** (Create, Read, Update, Delete).\n",
        "\n",
        "Nós aprendemos a:\n",
        "- Usar a view genérica `RetrieveAPIView` para buscar um único objeto.\n",
        "- Criar padrões de URL dinâmicos para capturar parâmetros como `<int:pk>`.\n",
        "\n",
        "Com os endpoints de leitura prontos, nossa API já pode ser consumida por outras aplicações. Nas próximas etapas, vamos explorar como permitir que os clientes **criem, atualizem e deletem** dados, completando todas as operações básicas de uma API."
      ]
    }
  ],
  "metadata": {
    "kernelspec": {
      "display_name": "Python 3",
      "language": "python",
      "name": "python3"
    },
    "language_info": {
      "codemirror_mode": {
        "name": "ipython",
        "version": 3
      },
      "file_extension": ".py",
      "mimetype": "text/x-python",
      "name": "python",
      "nbconvert_exporter": "python",
      "pygments_lexer": "ipython3",
      "version": "3.10.12"
    }
  },
  "nbformat": 4,
  "nbformat_minor": 5
}
