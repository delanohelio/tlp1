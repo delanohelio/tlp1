{
  "cells": [
    {
      "cell_type": "markdown",
      "metadata": {},
      "source": [
        "# Semana 9: Construindo a Base - Apps e Models no Django\n",
        "\n",
        "Na semana passada, criamos com sucesso a estrutura do nosso projeto Django e ligamos o servidor. Agora, vamos começar a dar vida a ele, definindo a estrutura de dados que nossa API irá gerenciar.\n",
        "\n",
        "Nesta aula, vamos aprender sobre **Apps** no Django, criar nosso primeiro **Model** para representar um produto e usar as **Migrations** para criar a tabela correspondente no banco de dados.\n",
        "\n",
        "--- \n",
        "**⚠️ ATENÇÃO: AULA PRÁTICA NO SEU COMPUTADOR!**\n",
        "\n",
        "Continue executando os comandos no **terminal (prompt de comando)** do seu computador, com o ambiente virtual `(venv)` ativado, dentro da pasta do seu projeto.\n",
        "\n",
        "--- "
      ]
    },
    {
      "cell_type": "markdown",
      "metadata": {},
      "source": [
        "### 1. Projetos vs. Apps no Django\n",
        "\n",
        "Antes de começar, é importante entender uma distinção no Django:\n",
        "\n",
        "- **Projeto:** É o contêiner principal, o site ou a API como um todo. Ele cuida das configurações gerais, rotas principais, etc. (O que criamos na semana passada, o `meuprojeto`).\n",
        "- **App:** É um módulo, um componente focado em uma funcionalidade específica. Um projeto pode ter vários apps. Por exemplo, em um site de e-commerce, poderíamos ter um app para `produtos`, um para `usuarios`, um para `pedidos`, etc. \n",
        "\n",
        "Vamos criar um app chamado `api` para cuidar de toda a lógica da nossa API."
      ]
    },
    {
      "cell_type": "markdown",
      "metadata": {},
      "source": [
        "### Passo 1: Criando nossa App de API\n",
        "\n",
        "Certifique-se de que seu ambiente virtual está ativado e que você está na pasta principal do projeto (a mesma pasta onde está o arquivo `manage.py`).\n",
        "\n",
        "Execute o comando:\n",
        "```bash\n",
        "python manage.py startapp api\n",
        "```\n",
        "Você verá que uma nova pasta chamada `api` foi criada, cheia de novos arquivos!"
      ]
    },
    {
      "cell_type": "markdown",
      "metadata": {},
      "source": [
        "### Passo 2: Registrando a App no Projeto\n",
        "\n",
        "Criar a app não é o suficiente. Precisamos \"avisar\" ao nosso projeto Django que essa nova app existe e deve ser considerada.\n",
        "\n",
        "1. Abra o arquivo `meuprojeto/settings.py`.\n",
        "2. Encontre a lista chamada `INSTALLED_APPS`.\n",
        "3. Adicione o nome da sua app (`'api'`) a essa lista. Geralmente adicionamos no topo da terceira seção.\n",
        "\n",
        "Deverá ficar assim:"
      ]
    },
    {
      "cell_type": "code",
      "execution_count": null,
      "metadata": {},
      "outputs": [],
      "source": [
        "# meuprojeto/settings.py\n",
        "\n",
        "INSTALLED_APPS = [\n",
        "    # Apps do Django\n",
        "    'django.contrib.admin',\n",
        "    'django.contrib.auth',\n",
        "    'django.contrib.contenttypes',\n",
        "    'django.contrib.sessions',\n",
        "    'django.contrib.messages',\n",
        "    'django.contrib.staticfiles',\n",
        "    \n",
        "    # Apps de Terceiros (instalados com pip)\n",
        "    'rest_framework',\n",
        "    \n",
        "    # Nossas Apps (locais)\n",
        "    'api.apps.ApiConfig', # ou simplesmente 'api'\n",
        "]"
      ]
    },
    {
      "cell_type": "markdown",
      "metadata": {},
      "source": [
        "### Passo 3: O Coração dos Dados - Models\n",
        "\n",
        "Um **Model** é a representação dos dados da nossa aplicação. Essencialmente, **um Model é uma classe Python que representa uma tabela no banco de dados.**\n",
        "\n",
        "É aqui que nosso conhecimento de POO e Herança brilha! Cada Model que criamos herda de `django.db.models.Model`, ganhando todos os poderes de um modelo de banco de dados.\n",
        "\n",
        "Os **atributos da classe** se tornarão as **colunas da tabela**.\n",
        "\n",
        "Vamos criar um Model para representar um `Produto`. Abra o arquivo `api/models.py` e adicione o seguinte código:"
      ]
    },
    {
      "cell_type": "code",
      "execution_count": null,
      "metadata": {},
      "outputs": [],
      "source": [
        "# api/models.py\n",
        "\n",
        "from django.db import models\n",
        "\n",
        "# Nossa classe Produto herda de models.Model\n",
        "class Produto(models.Model):\n",
        "    # CharField é usado para campos de texto curtos.\n",
        "    nome = models.CharField(max_length=100)\n",
        "    \n",
        "    # TextField é usado para textos longos.\n",
        "    descricao = models.TextField(blank=True, null=True) # blank=True e null=True tornam o campo opcional\n",
        "    \n",
        "    # DecimalField é usado para números com casas decimais (preços).\n",
        "    preco = models.DecimalField(max_digits=10, decimal_places=2)\n",
        "    \n",
        "    # BooleanField para valores Verdadeiro/Falso.\n",
        "    disponivel = models.BooleanField(default=True)\n",
        "    \n",
        "    # O método __str__ é importante para dar uma representação legível do objeto.\n",
        "    def __str__(self):\n",
        "        return self.nome\n"
      ]
    },
    {
      "cell_type": "markdown",
      "metadata": {},
      "source": [
        "### Passo 4: Migrations - O \"Git\" do seu Banco de Dados\n",
        "\n",
        "Acabamos de descrever nossa tabela em Python, mas como isso vira uma tabela de verdade no banco de dados? Através das **Migrations**.\n",
        "\n",
        "O processo tem duas etapas:\n",
        "1. **`makemigrations`**: O Django olha para o seu `models.py`, compara com o estado anterior e cria um \"arquivo de receita\" descrevendo as alterações necessárias.\n",
        "2. **`migrate`**: O Django pega essa \"receita\" e a aplica no banco de dados, criando ou alterando as tabelas de verdade.\n",
        "\n",
        "Vamos executar os comandos no terminal:"
      ]
    },
    {
      "cell_type": "markdown",
      "metadata": {},
      "source": [
        "**1. Criar o arquivo de migração:**\n",
        "```bash\n",
        "python manage.py makemigrations\n",
        "```\n",
        "Você verá uma saída dizendo que `0001_initial.py` foi criado para a app `api`.\n",
        "\n",
        "**2. Aplicar a migração ao banco de dados:**\n",
        "```bash\n",
        "python manage.py migrate\n",
        "```\n",
        "Pronto! Agora a tabela `api_produto` existe no nosso banco de dados."
      ]
    },
    {
      "cell_type": "markdown",
      "metadata": {},
      "source": [
        "### Passo 5: Verificando o Resultado no Django Admin\n",
        "\n",
        "A forma mais fácil de ver e interagir com nossos Models é através da interface de administração do Django.\n",
        "\n",
        "**1. Crie um superusuário:**\n",
        "```bash\n",
        "python manage.py createsuperuser\n",
        "```\n",
        "(Siga as instruções para definir nome de usuário, email e senha).\n",
        "\n",
        "**2. Registre o Model no Admin:**\n",
        "Abra o arquivo `api/admin.py` e adicione:\n",
        "```python\n",
        "from django.contrib import admin\n",
        "from .models import Produto # Importa o nosso Model\n",
        "\n",
        "# \"Registra\" o Model na interface de admin\n",
        "admin.site.register(Produto)\n",
        "```\n",
        "\n",
        "**3. Teste!**\n",
        "- Inicie o servidor novamente: `python manage.py runserver`\n",
        "- Acesse: `http://127.0.0.1:8000/admin`\n",
        "- Faça login com o superusuário que você criou.\n",
        "- Você verá a seção \"Api\" e poderá clicar em \"Produtos\" para adicionar, editar e remover produtos!"
      ]
    },
    {
      "cell_type": "markdown",
      "metadata": {},
      "source": [
        "### Conclusão\n",
        "\n",
        "Parabéns por esta aula densa e muito importante! Nós aprendemos a:\n",
        "- Estruturar um projeto Django em **Apps**.\n",
        "- Definir a estrutura dos nossos dados com **Models**.\n",
        "- Sincronizar nossos Models com o banco de dados usando **Migrations**.\n",
        "- Visualizar e gerenciar nossos dados através do **Django Admin**.\n",
        "\n",
        "Agora que nosso banco de dados \"entende\" o que é um Produto, na próxima semana vamos aprender a traduzir esses dados para o formato JSON usando **Serializers**, para que nossa API possa finalmente começar a conversar com o mundo exterior."
      ]
    }
  ],
  "metadata": {
    "kernelspec": {
      "display_name": "Python 3",
      "language": "python",
      "name": "python3"
    },
    "language_info": {
      "codemirror_mode": {
        "name": "ipython",
        "version": 3
      },
      "file_extension": ".py",
      "mimetype": "text/x-python",
      "name": "python",
      "nbconvert_exporter": "python",
      "pygments_lexer": "ipython3",
      "version": "3.10.12"
    }
  },
  "nbformat": 4,
  "nbformat_minor": 5
}
