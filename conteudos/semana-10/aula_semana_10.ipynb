{
  "cells": [
    {
      "cell_type": "markdown",
      "metadata": {},
      "source": [
        "# Semana 10: Serializers - Traduzindo Dados para a Web\n",
        "\n",
        "Na semana passada, criamos nosso `Model` de Produto, que representa uma tabela no banco de dados. Agora, temos um desafio: como podemos pegar um objeto `Produto` do nosso banco de dados, que é um objeto Python, e transformá-lo em JSON para enviar pela internet?\n",
        "\n",
        "A resposta está nos **Serializers** do Django REST Framework. Eles são os \"tradutores\" da nossa API.\n",
        "\n",
        "--- \n",
        "**⚠️ ATENÇÃO: AULA PRÁTICA NO SEU COMPUTADOR!**\n",
        "\n",
        "Continue trabalhando no seu projeto Django local, com o ambiente virtual `(venv)` ativado.\n",
        "\n",
        "--- "
      ]
    },
    {
      "cell_type": "markdown",
      "metadata": {},
      "source": [
        "### 1. O que é Serialização?\n",
        "\n",
        "**Serialização** é o processo de converter um tipo de dado complexo (como um objeto de uma classe em Python) em um formato que pode ser facilmente armazenado ou transmitido (como texto puro no formato JSON).\n",
        "\n",
        "**Desserialização** é o processo inverso: pegar os dados em formato JSON e convertê-los de volta para um objeto Python.\n",
        "\n",
        "O Django REST Framework (DRF) nos fornece a classe `Serializer` para fazer esse trabalho pesado."
      ]
    },
    {
      "cell_type": "markdown",
      "metadata": {},
      "source": [
        "### Passo 1: Criando o Arquivo de Serializers\n",
        "\n",
        "Por convenção, a lógica de serialização de uma app fica em um arquivo chamado `serializers.py`.\n",
        "\n",
        "Dentro da sua pasta `api`, crie um novo arquivo chamado **`serializers.py`**."
      ]
    },
    {
      "cell_type": "markdown",
      "metadata": {},
      "source": [
        "### Passo 2: Construindo nosso Primeiro Serializer\n",
        "\n",
        "Nosso objetivo é criar um `Serializer` que saiba como traduzir nosso `Model` de `Produto`.\n",
        "\n",
        "A estrutura de um serializer se parece muito com a de um Model. Nós definimos os campos que queremos que apareçam no JSON.\n",
        "\n",
        "Abra o arquivo `api/serializers.py` e adicione o seguinte código:"
      ]
    },
    {
      "cell_type": "code",
      "execution_count": null,
      "metadata": {},
      "outputs": [],
      "source": [
        "# api/serializers.py\n",
        "\n",
        "from rest_framework import serializers\n",
        "from .models import Produto # Importa nosso Model\n",
        "\n",
        "# ModelSerializer é uma classe especial que facilita a criação de serializers para Models.\n",
        "class ProdutoSerializer(serializers.ModelSerializer):\n",
        "    class Meta:\n",
        "        model = Produto # Indica qual Model este serializer deve usar.\n",
        "        # fields = '__all__' # Indica que TODOS os campos do Model devem ser incluídos no JSON.\n",
        "        # Ou, para escolher campos específicos:\n",
        "        fields = ['id', 'nome', 'preco', 'disponivel']"
      ]
    },
    {
      "cell_type": "markdown",
      "metadata": {},
      "source": [
        "#### Entendendo o `ModelSerializer`\n",
        "\n",
        "Poderíamos ter criado um serializer do zero, definindo cada campo manualmente. No entanto, o DRF nos dá o `ModelSerializer`, que é muito mais inteligente.\n",
        "\n",
        "Ao usar `ModelSerializer`, ele automaticamente inspeciona o `Model` `Produto` e já entende quais campos ele tem (`nome`, `preco`, etc.) e de que tipo eles são. Isso economiza muito trabalho!"
      ]
    },
    {
      "cell_type": "markdown",
      "metadata": {},
      "source": [
        "### Passo 3: Testando o Serializer no Shell Interativo\n",
        "\n",
        "Como podemos ver nosso serializer em ação antes de criar um endpoint de API? Usando o shell interativo do Django, que nos dá acesso a todos os componentes do nosso projeto.\n",
        "\n",
        "**1. Abra o shell:**\n",
        "No terminal, execute:\n",
        "```bash\n",
        "python manage.py shell\n",
        "```\n",
        "\n",
        "**2. Importe os componentes e crie um produto (se ainda não tiver):**\n",
        "Dentro do shell, digite os seguintes comandos Python:\n",
        "```python\n",
        "from api.models import Produto\n",
        "from api.serializers import ProdutoSerializer\n",
        "\n",
        "# Crie um objeto Produto para testar\n",
        "produto_teste = Produto(nome='Mousepad Gamer', preco=79.90)\n",
        "produto_teste.save()\n",
        "```\n",
        "\n",
        "**3. Serialize o objeto!**\n",
        "```python\n",
        "# Crie uma instância do serializer, passando o objeto que você quer \"traduzir\"\n",
        "serializer = ProdutoSerializer(produto_teste)\n",
        "\n",
        "# Acesse os dados serializados\n",
        "print(serializer.data)\n",
        "```\n",
        "**Resultado esperado:**\n",
        "Você verá no seu terminal um dicionário Python que é a representação exata do JSON que nossa API irá gerar!\n",
        "```\n",
        "{'id': 1, 'nome': 'Mousepad Gamer', 'preco': '79.90', 'disponivel': True}\n",
        "```"
      ]
    },
    {
      "cell_type": "markdown",
      "metadata": {},
      "source": [
        "#### Serializando Múltiplos Objetos\n",
        "E se quisermos serializar uma lista de produtos?\n",
        "\n",
        "```python\n",
        "# Busque todos os produtos do banco de dados\n",
        "todos_os_produtos = Produto.objects.all()\n",
        "\n",
        "# Ao instanciar o serializer, passe a lista e o argumento many=True\n",
        "serializer_lista = ProdutoSerializer(todos_os_produtos, many=True)\n",
        "\n",
        "# Veja o resultado\n",
        "print(serializer_lista.data)\n",
        "```\n",
        "O resultado será uma lista de dicionários, exatamente o que precisamos para um endpoint de listagem."
      ]
    },
    {
      "cell_type": "markdown",
      "metadata": {},
      "source": [
        "### Conclusão\n",
        "\n",
        "Nesta aula, criamos o \"tradutor\" da nossa API. O **Serializer** é a peça que conecta o mundo dos **Models** (objetos Python e banco de dados) com o mundo da web (JSON).\n",
        "\n",
        "Agora que temos:\n",
        "1.  A estrutura dos dados (`Model`)\n",
        "2.  O tradutor desses dados (`Serializer`)\n",
        "\n",
        "Na próxima semana, vamos finalmente criar o **endpoint** da nossa API usando as **Views**, permitindo que um cliente externo faça uma requisição HTTP e receba nossos dados em JSON."
      ]
    }
  ],
  "metadata": {
    "kernelspec": {
      "display_name": "Python 3",
      "language": "python",
      "name": "python3"
    },
    "language_info": {
      "codemirror_mode": {
        "name": "ipython",
        "version": 3
      },
      "file_extension": ".py",
      "mimetype": "text/x-python",
      "name": "python",
      "nbconvert_exporter": "python",
      "pygments_lexer": "ipython3",
      "version": "3.10.12"
    }
  },
  "nbformat": 4,
  "nbformat_minor": 5
}