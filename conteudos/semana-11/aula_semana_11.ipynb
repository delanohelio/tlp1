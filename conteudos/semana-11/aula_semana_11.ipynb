{
  "cells": [
    {
      "cell_type": "markdown",
      "metadata": {},
      "source": [
        "# Semana 11: Dando Vida à API - Views e o Primeiro Endpoint\n",
        "\n",
        "Este é o momento que estávamos esperando! Temos a estrutura dos nossos dados (`Model`) e o tradutor para JSON (`Serializer`). Agora, vamos conectar tudo isso à web, criando nosso primeiro **endpoint** funcional.\n",
        "\n",
        "Nesta aula, vamos usar as **Views** do Django REST Framework para receber requisições HTTP e retornar nossa lista de produtos. Ao final, você terá uma URL no seu navegador exibindo dados da sua API!\n",
        "\n",
        "--- \n",
        "**⚠️ ATENÇÃO: AULA PRÁTICA NO SEU COMPUTADOR!**\n",
        "\n",
        "Continue trabalhando no seu projeto Django local, com o ambiente virtual `(venv)` ativado.\n",
        "\n",
        "--- "
      ]
    },
    {
      "cell_type": "markdown",
      "metadata": {},
      "source": [
        "### 1. O que é uma View?\n",
        "\n",
        "No Django, uma **View** é a responsável por processar uma requisição web e retornar uma resposta. Ela é o cérebro do nosso endpoint. \n",
        "\n",
        "A lógica geralmente é:\n",
        "1. Recebe um pedido (requisição HTTP).\n",
        "2. Busca ou manipula dados no banco de dados (usando os `Models`).\n",
        "3. Converte os dados para o formato de resposta (usando os `Serializers`).\n",
        "4. Envia a resposta de volta ao cliente.\n",
        "\n",
        "O Django REST Framework (DRF) nos fornece \"Views Genéricas\" (Class-Based Views) que já vêm com a maior parte dessa lógica pronta para padrões comuns, como listar todos os itens de um Model."
      ]
    },
    {
      "cell_type": "markdown",
      "metadata": {},
      "source": [
        "### Passo 1: Criando a View de Listagem\n",
        "\n",
        "Vamos criar uma View que lista todos os produtos do nosso banco de dados. Para isso, usaremos a view genérica `ListAPIView` do DRF.\n",
        "\n",
        "Abra o arquivo **`api/views.py`** e adicione o seguinte código:"
      ]
    },
    {
      "cell_type": "code",
      "execution_count": null,
      "metadata": {},
      "outputs": [],
      "source": [
        "# api/views.py\n",
        "\n",
        "from rest_framework import generics\n",
        "from .models import Produto\n",
        "from .serializers import ProdutoSerializer\n",
        "\n",
        "# generics.ListAPIView é uma view pronta que lida com requisições GET para listar objetos.\n",
        "class ProdutoList(generics.ListAPIView):\n",
        "    # queryset: Define a consulta ao banco de dados para buscar os objetos.\n",
        "    # Aqui, estamos buscando TODOS os produtos.\n",
        "    queryset = Produto.objects.all()\n",
        "    \n",
        "    # serializer_class: Indica qual serializer deve ser usado para converter os objetos.\n",
        "    serializer_class = ProdutoSerializer\n"
      ]
    },
    {
      "cell_type": "markdown",
      "metadata": {},
      "source": [
        "É só isso! Com apenas 3 linhas de código, definimos toda a lógica necessária para buscar todos os produtos e serializá-los em JSON. Isso demonstra o poder das views genéricas do DRF."
      ]
    },
    {
      "cell_type": "markdown",
      "metadata": {},
      "source": [
        "### Passo 2: Conectando Tudo - URLs e Roteamento\n",
        "\n",
        "Nossa `View` está pronta, mas como um usuário acessa ela? Precisamos criar uma **URL** (um endereço) e conectá-la à nossa view.\n",
        "\n",
        "O processo no Django é feito em duas etapas para manter a organização:\n",
        "1.  **URLs da App:** Criamos um arquivo de URLs dentro da nossa app `api`.\n",
        "2.  **URLs do Projeto:** Conectamos o arquivo de URLs principal do projeto ao novo arquivo da nossa app."
      ]
    },
    {
      "cell_type": "markdown",
      "metadata": {},
      "source": [
        "#### 2.1. Configurando as URLs da App (`api`)\n",
        "\n",
        "Dentro da sua pasta `api`, crie um novo arquivo chamado **`urls.py`**. Nele, adicione o seguinte código:"
      ]
    },
    {
      "cell_type": "code",
      "execution_count": null,
      "metadata": {},
      "outputs": [],
      "source": [
        "# api/urls.py\n",
        "\n",
        "from django.urls import path\n",
        "from . import views\n",
        "\n",
        "urlpatterns = [\n",
        "    # Quando a URL 'produtos/' for acessada, ela chamará a view ProdutoList.\n",
        "    # .as_view() é necessário para classes de view.\n",
        "    # name= é um apelido para a rota, útil para referenciá-la em outras partes do Django.\n",
        "    path('produtos/', views.ProdutoList.as_view(), name='produto-list'),\n",
        "]"
      ]
    },
    {
      "cell_type": "markdown",
      "metadata": {},
      "source": [
        "#### 2.2. Conectando as URLs do Projeto (`meuprojeto`)\n",
        "\n",
        "Agora, precisamos dizer ao nosso projeto principal para incluir as URLs da nossa app `api`. \n",
        "\n",
        "Abra o arquivo **`meuprojeto/urls.py`** e modifique-o para que fique assim:"
      ]
    },
    {
      "cell_type": "code",
      "execution_count": null,
      "metadata": {},
      "outputs": [],
      "source": [
        "# meuprojeto/urls.py\n",
        "\n",
        "from django.contrib import admin\n",
        "from django.urls import path, include # Importe a função 'include'\n",
        "\n",
        "urlpatterns = [\n",
        "    path('admin/', admin.site.urls),\n",
        "    # Qualquer URL que comece com 'api/' será redirecionada para o arquivo urls.py da nossa app api.\n",
        "    path('api/', include('api.urls')), \n",
        "]"
      ]
    },
    {
      "cell_type": "markdown",
      "metadata": {},
      "source": [
        "### Passo 3: O Grande Momento - Testando o Endpoint!\n",
        "\n",
        "Com tudo configurado, vamos ver o resultado.\n",
        "\n",
        "1.  **Inicie o servidor:**\n",
        "    ```bash\n",
        "    python manage.py runserver\n",
        "    ```\n",
        "\n",
        "2.  **Acesse a URL no seu navegador:**\n",
        "    Abra o navegador e acesse: **http://127.0.0.1:8000/api/produtos/**\n",
        "\n",
        "**Resultado esperado:**\n",
        "Você verá a **Browsable API** do Django REST Framework! É uma página web que mostra a resposta JSON da sua API, junto com outras informações úteis. Se você adicionou produtos pelo Django Admin na aula passada, eles aparecerão aqui, formatados em JSON."
      ]
    },
    {
      "cell_type": "markdown",
      "metadata": {},
      "source": [
        "### Conclusão e Resumo do Fluxo\n",
        "\n",
        "**Parabéns! Você acabou de criar seu primeiro endpoint de API funcional!**\n",
        "\n",
        "Vamos revisar o fluxo de uma requisição que acabamos de construir:\n",
        "\n",
        "1.  O cliente acessa `/api/produtos/`.\n",
        "2.  O `urls.py` do **projeto** vê `api/` e passa a requisição para o `urls.py` da **app**.\n",
        "3.  O `urls.py` da **app** vê `produtos/` e chama a `View` **ProdutoList**.\n",
        "4.  A **View** busca todos os objetos no `Model` **Produto**.\n",
        "5.  A **View** usa o **ProdutoSerializer** para converter os objetos em JSON.\n",
        "6.  A **View** retorna a resposta JSON para o cliente.\n",
        "\n",
        "Agora que podemos listar todos os produtos, o próximo passo lógico é criar um endpoint para ver os detalhes de um *único* produto. Faremos isso na próxima aula!"
      ]
    }
  ],
  "metadata": {
    "kernelspec": {
      "display_name": "Python 3",
      "language": "python",
      "name": "python3"
    },
    "language_info": {
      "codemirror_mode": {
        "name": "ipython",
        "version": 3
      },
      "file_extension": ".py",
      "mimetype": "text/x-python",
      "name": "python",
      "nbconvert_exporter": "python",
      "pygments_lexer": "ipython3",
      "version": "3.10.12"
    }
  },
  "nbformat": 4,
  "nbformat_minor": 5
}
